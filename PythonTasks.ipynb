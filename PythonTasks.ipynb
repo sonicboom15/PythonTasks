{
 "cells": [
  {
   "cell_type": "markdown",
   "metadata": {},
   "source": [
    "## Task 1:\n",
    "Write a program that takes a list of lists of strings and displays it in a wellorganized table with each column right-justified. Assume that all the inner lists will contain the same number of strings. For example, the value could look like this:\n",
    "\n",
    "tableData = \n",
    "[['apples', 'oranges', 'cherries', 'banana'],\n",
    " ['Alice', 'Bob', 'Carol', 'David'],\n",
    " ['dogs', 'cats', 'moose', 'goose']]\n",
    " \n",
    "Should print the following:\n",
    " apples Alice dogs\n",
    " oranges Bob cats\n",
    "cherries Carol moose\n",
    " banana David goose "
   ]
  },
  {
   "cell_type": "code",
   "execution_count": 1,
   "metadata": {},
   "outputs": [
    {
     "name": "stdout",
     "output_type": "stream",
     "text": [
      "Enter number of lines3\n",
      "apples oranges cherry banana\n",
      "alice bob carol david\n",
      "dogs cats moose goose\n"
     ]
    }
   ],
   "source": [
    "#Solution\n",
    "#Getting Input Data\n",
    "lines = int(input(\"Enter number of lines\"))\n",
    "tableData = []\n",
    "for i in range(lines):\n",
    "    tableData.append(input().split(\" \"))"
   ]
  },
  {
   "cell_type": "code",
   "execution_count": 2,
   "metadata": {},
   "outputs": [
    {
     "name": "stdout",
     "output_type": "stream",
     "text": [
      "[['apples', 'oranges', 'cherry', 'banana'], ['alice', 'bob', 'carol', 'david'], ['dogs', 'cats', 'moose', 'goose']]\n"
     ]
    }
   ],
   "source": [
    "#Showing Table Data\n",
    "print(tableData)"
   ]
  },
  {
   "cell_type": "code",
   "execution_count": 4,
   "metadata": {},
   "outputs": [
    {
     "name": "stdout",
     "output_type": "stream",
     "text": [
      "apples\t\talice\t\tdogs\t\t\n",
      "\n",
      "oranges\t\tbob\t\tcats\t\t\n",
      "\n",
      "cherry\t\tcarol\t\tmoose\t\t\n",
      "\n",
      "banana\t\tdavid\t\tgoose\t\t\n",
      "\n"
     ]
    }
   ],
   "source": [
    "#Printing the solution\n",
    "for i in range(len(tableData[0])):\n",
    "    for j in range(len(tableData)):\n",
    "        print(tableData[j][i],end=\"\\t\\t\")\n",
    "    print(\"\\n\")"
   ]
  },
  {
   "cell_type": "markdown",
   "metadata": {},
   "source": [
    "## Task 2:\n",
    "Get the input value as a Roman number from the user \"N\". Print and convert into\n",
    "integer. Note : Input Size : N<=20 "
   ]
  },
  {
   "cell_type": "code",
   "execution_count": 8,
   "metadata": {},
   "outputs": [
    {
     "name": "stdout",
     "output_type": "stream",
     "text": [
      "Enter the roman numberIV\n",
      "4\n"
     ]
    }
   ],
   "source": [
    "inputString = input(\"Enter the roman number\")\n",
    "rom = {'I': 1, 'V': 5, 'X': 10, 'L': 50, 'C': 100, 'D': 500, 'M': 1000}\n",
    "ans = 0\n",
    "for i in range(len(inputString)):\n",
    "    if i > 0 and rom[inputString[i]] > rom[inputString[i - 1]]:\n",
    "        ans = ans + rom[inputString[i]] - 2 * rom[inputString[i - 1]]\n",
    "    else:\n",
    "        ans = ans + rom[inputString[i]]\n",
    "print(ans)"
   ]
  },
  {
   "cell_type": "markdown",
   "metadata": {},
   "source": [
    "## Task 3\n",
    "You will be provided with a number. Print the number of days in the month\n",
    "corresponding to that number. Note: In case the input is February, print 28\n",
    "days. If the Input is not in valid range print \"Error\". "
   ]
  },
  {
   "cell_type": "code",
   "execution_count": 13,
   "metadata": {},
   "outputs": [
    {
     "name": "stdout",
     "output_type": "stream",
     "text": [
      "Enter Month Number8\n",
      "31\n"
     ]
    }
   ],
   "source": [
    "inputNum = int(input(\"Enter Month Number\"))\n",
    "if inputNum > 12 or inputNum < 1:\n",
    "    print(\"Error\")\n",
    "elif inputNum == 2:\n",
    "    print(\"28\")\n",
    "elif inputNum < 8 and inputNum%2 == 0:\n",
    "    print(\"30\")\n",
    "elif inputNum < 8:\n",
    "    print(\"31\")\n",
    "elif inputNum >= 8 and inputNum%2 == 0:\n",
    "    print(\"31\")\n",
    "else:\n",
    "    print(\"30\")"
   ]
  },
  {
   "cell_type": "markdown",
   "metadata": {},
   "source": [
    "## Task-4: \n",
    "Say you have a list like this:\n",
    "food = ['apples', 'bananas', 'tofu', 'soya']\n",
    "Write a function that takes a list value as an argument and returns a string with\n",
    "all the items separated by a comma and a space, with and inserted before the last\n",
    "item. For example, passing the previous spam list to the function would return\n",
    "'apples, bananas, tofu, and soya'. But your function should be able to work with\n",
    "any list value passed to it. Be sure to test the case where an empty list [] is passed\n",
    "to your function. "
   ]
  },
  {
   "cell_type": "code",
   "execution_count": 16,
   "metadata": {},
   "outputs": [
    {
     "name": "stdout",
     "output_type": "stream",
     "text": [
      " apples, bananas, tofu,and soya\n"
     ]
    }
   ],
   "source": [
    "def listToString(someList):\n",
    "    if(len(someList)==0):\n",
    "        return \"Error\"\n",
    "    someList = list(map(str,someList))\n",
    "    listLength = len(someList)\n",
    "    finalStr = \"\"\n",
    "    for i in range(listLength):\n",
    "        if i!=listLength-1:\n",
    "            finalStr = finalStr +\" \"+someList[i]+\",\"\n",
    "        else:\n",
    "            finalStr = finalStr +\"and \"+someList[i]\n",
    "    print(finalStr)\n",
    "some = ['apples','bananas','tofu','soya']\n",
    "listToString(some)"
   ]
  },
  {
   "cell_type": "code",
   "execution_count": null,
   "metadata": {},
   "outputs": [],
   "source": []
  }
 ],
 "metadata": {
  "kernelspec": {
   "display_name": "Python 3",
   "language": "python",
   "name": "python3"
  },
  "language_info": {
   "codemirror_mode": {
    "name": "ipython",
    "version": 3
   },
   "file_extension": ".py",
   "mimetype": "text/x-python",
   "name": "python",
   "nbconvert_exporter": "python",
   "pygments_lexer": "ipython3",
   "version": "3.6.8"
  }
 },
 "nbformat": 4,
 "nbformat_minor": 2
}
