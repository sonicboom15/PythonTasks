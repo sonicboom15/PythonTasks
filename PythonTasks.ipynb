{
 "cells": [
  {
   "cell_type": "markdown",
   "metadata": {},
   "source": [
    "# Day 2:"
   ]
  },
  {
   "cell_type": "markdown",
   "metadata": {},
   "source": [
    "## Task-1 (Mini Tasks): \n",
    "#### Sort the list\n",
    "l1 = [3, 1, 4, 2, 5] "
   ]
  },
  {
   "cell_type": "code",
   "execution_count": 21,
   "metadata": {},
   "outputs": [
    {
     "name": "stdout",
     "output_type": "stream",
     "text": [
      "[1, 2, 3, 4, 5]\n"
     ]
    }
   ],
   "source": [
    "def sort(somel):\n",
    "    somel.sort()\n",
    "    return somel\n",
    "print(sort([3,1,4,2,5]))"
   ]
  },
  {
   "cell_type": "markdown",
   "metadata": {},
   "source": [
    "#### print the squares of all the number in the list\n",
    "l2 = [3, 1, 4, 2, 5] "
   ]
  },
  {
   "cell_type": "code",
   "execution_count": 22,
   "metadata": {},
   "outputs": [
    {
     "name": "stdout",
     "output_type": "stream",
     "text": [
      "[9, 1, 16, 4, 25]\n"
     ]
    }
   ],
   "source": [
    "def square(somel):\n",
    "    res = []\n",
    "    for i in somel:\n",
    "        res.append(i*i)\n",
    "    return res\n",
    "print(square([3,1,4,2,5]))"
   ]
  },
  {
   "cell_type": "markdown",
   "metadata": {},
   "source": [
    "#### print all the elements in the list\n",
    "l3 = [\n",
    " (105, \"d\"),\n",
    " (21, \"z\"),\n",
    " (0, \"v\")\n",
    "] \n"
   ]
  },
  {
   "cell_type": "code",
   "execution_count": 23,
   "metadata": {},
   "outputs": [
    {
     "name": "stdout",
     "output_type": "stream",
     "text": [
      "105 d 21 z 0 v "
     ]
    }
   ],
   "source": [
    "l3 = [ (105, \"d\"), (21, \"z\"), (0, \"v\") ]\n",
    "for i in l3:\n",
    "    for j in i:\n",
    "        print(j,end=\" \")"
   ]
  },
  {
   "cell_type": "markdown",
   "metadata": {},
   "source": [
    "#### Print all the value in the list\n",
    "#### print the hex value of green\n",
    "#### print the hex codes of all colors\n",
    "l = [\n",
    " {\n",
    " \"color\": \"red\",\n",
    " \"value\": \"#f00\"\n",
    " },\n",
    " {\n",
    " \"color\": \"green\",\n",
    " \"value\": \"#0f0\" \n",
    " },\n",
    " {\n",
    " \"color\": \"blue\",\n",
    " \"value\": \"#00f\"\n",
    " }\n",
    "] \n"
   ]
  },
  {
   "cell_type": "code",
   "execution_count": 30,
   "metadata": {},
   "outputs": [
    {
     "name": "stdout",
     "output_type": "stream",
     "text": [
      "[{'color': 'red', 'value': '#f00'}, {'color': 'green', 'value': '#0f0'}, {'color': 'blue', 'value': '#00f'}]\n",
      "#0f0\n",
      "#f00\n",
      "#0f0\n",
      "#00f\n"
     ]
    }
   ],
   "source": [
    "l = [ { \"color\": \"red\", \"value\": \"#f00\" }, { \"color\": \"green\", \"value\": \"#0f0\" }, { \"color\": \"blue\", \"value\": \"#00f\" } ]\n",
    "print(l)\n",
    "print(l[1]['value'])\n",
    "for i in l:\n",
    "    print(i['value'])"
   ]
  },
  {
   "cell_type": "markdown",
   "metadata": {},
   "source": [
    "#### Print the languages that are inferior to Python \n",
    "py = {'Python': 'Rocks', 'inferior': ['java', 'cobol']} "
   ]
  },
  {
   "cell_type": "code",
   "execution_count": 31,
   "metadata": {},
   "outputs": [
    {
     "name": "stdout",
     "output_type": "stream",
     "text": [
      "['java', 'cobol']\n"
     ]
    }
   ],
   "source": [
    "py = {'Python': 'Rocks', 'inferior': ['java', 'cobol']}\n",
    "print(py['inferior'])"
   ]
  },
  {
   "cell_type": "markdown",
   "metadata": {},
   "source": [
    "#### Print my Bill\n",
    "prices = {'apple': 0.40, 'banana': 0.50}\n",
    "my_purchase = {\n",
    " 'apple': 1,\n",
    " 'banana': 6} "
   ]
  },
  {
   "cell_type": "code",
   "execution_count": 38,
   "metadata": {},
   "outputs": [
    {
     "name": "stdout",
     "output_type": "stream",
     "text": [
      "apple\t1\t0.4\t0.4\n",
      "banana\t6\t0.5\t3.0\n",
      "Total\t\t\t3.4\n"
     ]
    }
   ],
   "source": [
    "prices = {'apple': 0.40, 'banana': 0.50} \n",
    "my_purchase = { 'apple': 1, 'banana': 6}\n",
    "total = 0\n",
    "for i,k in enumerate(my_purchase):\n",
    "    print(k+\"\\t\"+str(my_purchase[k])+\"\\t\"+str(prices[k])+\"\\t\"+str(my_purchase[k]*prices[k]))\n",
    "    total = total + my_purchase[k]*prices[k]\n",
    "print(\"Total\\t\\t\\t\"+str(total))"
   ]
  },
  {
   "cell_type": "markdown",
   "metadata": {},
   "source": [
    "#### print the items\n",
    "#### print the roles\n",
    "junk = { \n",
    " \"characters\": {\n",
    " \"Lonestar\": {\n",
    " \"id\": 55923,\n",
    " \"role\": \"renegade\",\n",
    " \"items\": [\n",
    " \"space winnebago\",\n",
    " \"leather jacket\"\n",
    " ]\n",
    " },\n",
    " \"Barfolomew\": {\n",
    " \"id\": 55924,\n",
    " \"role\": \"mawg\",\n",
    " \"items\": [\n",
    " \"peanut butter jar\",\n",
    " \"waggy tail\"\n",
    " ]\n",
    " },\n",
    " \"Dark Helmet\": {\n",
    " \"id\": 99999,\n",
    " \"role\": \"Good is dumb\",\n",
    " \"items\": [\n",
    " \"Shwartz\",\n",
    " \"helmet\"\n",
    " ]\n",
    " },\n",
    " \"Skroob\": {\n",
    " \"id\": 12345,\n",
    " \"role\": \"Spaceballs CEO\", \n",
    " \"items\": [\n",
    " \"luggage\"\n",
    " ]\n",
    " }\n",
    " }\n",
    "} \n"
   ]
  },
  {
   "cell_type": "code",
   "execution_count": 42,
   "metadata": {},
   "outputs": [
    {
     "name": "stdout",
     "output_type": "stream",
     "text": [
      "['space winnebago', 'leather jacket']\n",
      "['peanut butter jar', 'waggy tail']\n",
      "['Shwartz', 'helmet']\n",
      "['luggage']\n",
      "renegade\n",
      "mawg\n",
      "Good is dumb\n",
      "Spaceballs CEO\n"
     ]
    }
   ],
   "source": [
    "junk = { \"characters\": { \"Lonestar\": { \"id\": 55923, \"role\": \"renegade\", \"items\": [ \"space winnebago\", \"leather jacket\" ] }, \"Barfolomew\": { \"id\": 55924, \"role\": \"mawg\", \"items\": [ \"peanut butter jar\", \"waggy tail\" ] }, \"Dark Helmet\": { \"id\": 99999, \"role\": \"Good is dumb\", \"items\": [ \"Shwartz\", \"helmet\" ] }, \"Skroob\": { \"id\": 12345, \"role\": \"Spaceballs CEO\", \"items\": [ \"luggage\" ] } } }\n",
    "for i,k in enumerate(junk['characters']):\n",
    "    print(junk['characters'][k]['items'])\n",
    "for i,k in enumerate(junk['characters']):\n",
    "    print(junk['characters'][k]['role'])"
   ]
  },
  {
   "cell_type": "markdown",
   "metadata": {},
   "source": [
    "\n",
    "omg = {2: [1, 2, 3], 'a': {'b': {'c': {'d': {'e': [1, 2, 3]}}}}}\n",
    "#### Get the first array value for the key 2\n",
    "#### Print all the array value for the key 2\n",
    "#### Print value of key 'a','b','c','d','e'\n",
    "#### Print the sum of the array with key 'e'\n",
    "#### set value of key 'e' to ['Chera','Chola','Pandiya'] \n"
   ]
  },
  {
   "cell_type": "code",
   "execution_count": 50,
   "metadata": {},
   "outputs": [
    {
     "name": "stdout",
     "output_type": "stream",
     "text": [
      "1\n",
      "[1, 2, 3]\n",
      "{'b': {'c': {'d': {'e': [1, 2, 3]}}}}\n",
      "{'c': {'d': {'e': [1, 2, 3]}}}\n",
      "{'d': {'e': [1, 2, 3]}}\n",
      "{'e': [1, 2, 3]}\n",
      "[1, 2, 3]\n"
     ]
    }
   ],
   "source": [
    "omg = {2: [1, 2, 3], 'a': {'b': {'c': {'d': {'e': [1, 2, 3]}}}}}\n",
    "print(omg[2][0])\n",
    "print(omg[2])\n",
    "print(omg['a'])\n",
    "print(omg['a']['b'])\n",
    "print(omg['a']['b']['c'])\n",
    "print(omg['a']['b']['c']['d'])\n",
    "print(omg['a']['b']['c']['d']['e'])"
   ]
  },
  {
   "cell_type": "markdown",
   "metadata": {},
   "source": [
    "#### Get the value Mats from the Dict\n",
    "body = {\n",
    " 'query': {\n",
    " 'filtered': {\n",
    " 'query': {\n",
    " 'match': {'description': 'addictive'}\n",
    " },\n",
    " 'filter': {\n",
    " 'term': {'created_by': 'Mats'} \n",
    " }\n",
    " }\n",
    " }\n",
    "}"
   ]
  },
  {
   "cell_type": "code",
   "execution_count": 57,
   "metadata": {},
   "outputs": [
    {
     "name": "stdout",
     "output_type": "stream",
     "text": [
      "Mats\n"
     ]
    }
   ],
   "source": [
    "body = { 'query': { 'filtered': { 'query': { 'match': {'description': 'addictive'} }, 'filter': { 'term': {'created_by': 'Mats'} } } } }\n",
    "print(body['query']['filtered']['filter']['term']['created_by'])"
   ]
  },
  {
   "cell_type": "markdown",
   "metadata": {},
   "source": [
    "#### print the IMDB star rating ( 6.7)\n",
    "#### print the length of the movie\n",
    "movie_box = {\n",
    " \"Robin Hood: Men in Tights\": {\n",
    " \"imdb_stars\": 6.7,\n",
    " \"length\": 104,\n",
    " \"stars\": [ {\"name\": \"Cary Elwes\", \"imdb\": \"nm0000144\", \"role\": \"Robin\n",
    "Hood\"},\n",
    " {\"name\": \"Richard Lewis\", \"imdb\": \"nm0507659\", \"role\": \"Prince\n",
    "John\"} ]\n",
    " }\n",
    "}\n",
    "print(movie_box[\"Robin Hood: Men in Tights\"]) \n"
   ]
  },
  {
   "cell_type": "code",
   "execution_count": 59,
   "metadata": {},
   "outputs": [
    {
     "name": "stdout",
     "output_type": "stream",
     "text": [
      "6.7\n",
      "104\n"
     ]
    }
   ],
   "source": [
    "movie_box = { \"Robin Hood: Men in Tights\": { \"imdb_stars\": 6.7, \"length\": 104, \"stars\": [ {\"name\": \"Cary Elwes\", \"imdb\": \"nm0000144\", \"role\": \"Robin Hood\"}, {\"name\": \"Richard Lewis\", \"imdb\": \"nm0507659\", \"role\": \"Prince John\"} ] } }\n",
    "print(movie_box[\"Robin Hood: Men in Tights\"]['imdb_stars']) \n",
    "print(movie_box[\"Robin Hood: Men in Tights\"]['length']) "
   ]
  },
  {
   "cell_type": "markdown",
   "metadata": {},
   "source": [
    "## Task 2\n",
    "Write a function called is sorted that takes a list as a parameter and returns True\n",
    "if the list is sorted in ascending order and False otherwise. You can assume (as a\n",
    "precondition) that the elements of the list can be compared with the relational\n",
    "operators <, >, etc.\n",
    "For example, is_sorted([1,2,2]) should return True and is_sorted(['b','a']) should\n",
    "return False \n",
    "\n"
   ]
  },
  {
   "cell_type": "code",
   "execution_count": 61,
   "metadata": {},
   "outputs": [
    {
     "name": "stdout",
     "output_type": "stream",
     "text": [
      "True\n",
      "False\n"
     ]
    }
   ],
   "source": [
    "def is_sorted(data):\n",
    "    data2 = data.copy()\n",
    "    data2.sort()\n",
    "    if(data2==data):\n",
    "        return True\n",
    "    return False\n",
    "print(is_sorted([1,2,2]))\n",
    "print(is_sorted(['b','a']))"
   ]
  },
  {
   "cell_type": "markdown",
   "metadata": {},
   "source": [
    "## Task-3: \n",
    "Write a program that finds all the reverse pairs in the word list. Two words are a\n",
    "“reverse pair” if each is the reverse of the other."
   ]
  },
  {
   "cell_type": "code",
   "execution_count": 64,
   "metadata": {},
   "outputs": [
    {
     "name": "stdout",
     "output_type": "stream",
     "text": [
      "[['ab', 'ba'], ['cca', 'acc']]\n"
     ]
    }
   ],
   "source": [
    "def findRevPair(data):\n",
    "    pairs = []\n",
    "    temp = \"\"\n",
    "    for i in data:\n",
    "        temp = i[::-1]\n",
    "        if temp in data:\n",
    "            pairs.append([i,temp])\n",
    "            data.remove(i)\n",
    "            data.remove(temp)\n",
    "    print(pairs)\n",
    "findRevPair(['ab','ba','ac','cca','acc'])"
   ]
  },
  {
   "cell_type": "markdown",
   "metadata": {},
   "source": [
    "## Task-4\n",
    "Write a program that finds all of the metathesis pairs in the dictionary. Two\n",
    "words form a “metathesis pair” if you can transform one into the other by\n",
    "swapping two letters; for example, “converse” and “conserve.”\n",
    "Hint: don’t test all pairs of words, and don’t test all possibleswaps. "
   ]
  },
  {
   "cell_type": "code",
   "execution_count": 68,
   "metadata": {},
   "outputs": [
    {
     "data": {
      "text/plain": [
       "True"
      ]
     },
     "execution_count": 68,
     "metadata": {},
     "output_type": "execute_result"
    }
   ],
   "source": [
    "def findDiff(str1,str2):\n",
    "    temp=zip(str1,str2)\n",
    "    res=[]\n",
    "    counter=0\n",
    "    for i,j in temp:\n",
    "        if i!=j:\n",
    "            res.append(j)\n",
    "    if len(res)==2:\n",
    "        return True\n",
    "    return False\n",
    "findDiff('converse','conserve')"
   ]
  },
  {
   "cell_type": "markdown",
   "metadata": {},
   "source": [
    "# Day 1:"
   ]
  },
  {
   "cell_type": "markdown",
   "metadata": {},
   "source": [
    "## Task 1:\n",
    "Write a program that takes a list of lists of strings and displays it in a wellorganized table with each column right-justified. Assume that all the inner lists will contain the same number of strings. For example, the value could look like this:\n",
    "\n",
    "tableData = \n",
    "[['apples', 'oranges', 'cherries', 'banana'],\n",
    " ['Alice', 'Bob', 'Carol', 'David'],\n",
    " ['dogs', 'cats', 'moose', 'goose']]\n",
    " \n",
    "Should print the following:\n",
    " apples Alice dogs\n",
    " oranges Bob cats\n",
    "cherries Carol moose\n",
    " banana David goose "
   ]
  },
  {
   "cell_type": "code",
   "execution_count": 1,
   "metadata": {},
   "outputs": [
    {
     "name": "stdout",
     "output_type": "stream",
     "text": [
      "Enter number of lines3\n",
      "apples oranges cherry banana\n",
      "alice bob carol david\n",
      "dogs cats moose goose\n"
     ]
    }
   ],
   "source": [
    "#Solution\n",
    "#Getting Input Data\n",
    "lines = int(input(\"Enter number of lines\"))\n",
    "tableData = []\n",
    "for i in range(lines):\n",
    "    tableData.append(input().split(\" \"))"
   ]
  },
  {
   "cell_type": "code",
   "execution_count": 2,
   "metadata": {},
   "outputs": [
    {
     "name": "stdout",
     "output_type": "stream",
     "text": [
      "[['apples', 'oranges', 'cherry', 'banana'], ['alice', 'bob', 'carol', 'david'], ['dogs', 'cats', 'moose', 'goose']]\n"
     ]
    }
   ],
   "source": [
    "#Showing Table Data\n",
    "print(tableData)"
   ]
  },
  {
   "cell_type": "code",
   "execution_count": 4,
   "metadata": {},
   "outputs": [
    {
     "name": "stdout",
     "output_type": "stream",
     "text": [
      "apples\t\talice\t\tdogs\t\t\n",
      "\n",
      "oranges\t\tbob\t\tcats\t\t\n",
      "\n",
      "cherry\t\tcarol\t\tmoose\t\t\n",
      "\n",
      "banana\t\tdavid\t\tgoose\t\t\n",
      "\n"
     ]
    }
   ],
   "source": [
    "#Printing the solution\n",
    "for i in range(len(tableData[0])):\n",
    "    for j in range(len(tableData)):\n",
    "        print(tableData[j][i],end=\"\\t\\t\")\n",
    "    print(\"\\n\")"
   ]
  },
  {
   "cell_type": "markdown",
   "metadata": {},
   "source": [
    "## Task 2:\n",
    "Get the input value as a Roman number from the user \"N\". Print and convert into\n",
    "integer. Note : Input Size : N<=20 "
   ]
  },
  {
   "cell_type": "code",
   "execution_count": 8,
   "metadata": {},
   "outputs": [
    {
     "name": "stdout",
     "output_type": "stream",
     "text": [
      "Enter the roman numberIV\n",
      "4\n"
     ]
    }
   ],
   "source": [
    "inputString = input(\"Enter the roman number\")\n",
    "rom = {'I': 1, 'V': 5, 'X': 10, 'L': 50, 'C': 100, 'D': 500, 'M': 1000}\n",
    "ans = 0\n",
    "for i in range(len(inputString)):\n",
    "    if i > 0 and rom[inputString[i]] > rom[inputString[i - 1]]:\n",
    "        ans = ans + rom[inputString[i]] - 2 * rom[inputString[i - 1]]\n",
    "    else:\n",
    "        ans = ans + rom[inputString[i]]\n",
    "print(ans)"
   ]
  },
  {
   "cell_type": "markdown",
   "metadata": {},
   "source": [
    "## Task 3\n",
    "You will be provided with a number. Print the number of days in the month\n",
    "corresponding to that number. Note: In case the input is February, print 28\n",
    "days. If the Input is not in valid range print \"Error\". "
   ]
  },
  {
   "cell_type": "code",
   "execution_count": 13,
   "metadata": {},
   "outputs": [
    {
     "name": "stdout",
     "output_type": "stream",
     "text": [
      "Enter Month Number8\n",
      "31\n"
     ]
    }
   ],
   "source": [
    "inputNum = int(input(\"Enter Month Number\"))\n",
    "if inputNum > 12 or inputNum < 1:\n",
    "    print(\"Error\")\n",
    "elif inputNum == 2:\n",
    "    print(\"28\")\n",
    "elif inputNum < 8 and inputNum%2 == 0:\n",
    "    print(\"30\")\n",
    "elif inputNum < 8:\n",
    "    print(\"31\")\n",
    "elif inputNum >= 8 and inputNum%2 == 0:\n",
    "    print(\"31\")\n",
    "else:\n",
    "    print(\"30\")"
   ]
  },
  {
   "cell_type": "markdown",
   "metadata": {},
   "source": [
    "## Task-4: \n",
    "Say you have a list like this:\n",
    "food = ['apples', 'bananas', 'tofu', 'soya']\n",
    "Write a function that takes a list value as an argument and returns a string with\n",
    "all the items separated by a comma and a space, with and inserted before the last\n",
    "item. For example, passing the previous spam list to the function would return\n",
    "'apples, bananas, tofu, and soya'. But your function should be able to work with\n",
    "any list value passed to it. Be sure to test the case where an empty list [] is passed\n",
    "to your function. "
   ]
  },
  {
   "cell_type": "code",
   "execution_count": 16,
   "metadata": {},
   "outputs": [
    {
     "name": "stdout",
     "output_type": "stream",
     "text": [
      " apples, bananas, tofu,and soya\n"
     ]
    }
   ],
   "source": [
    "def listToString(someList):\n",
    "    if(len(someList)==0):\n",
    "        return \"Error\"\n",
    "    someList = list(map(str,someList))\n",
    "    listLength = len(someList)\n",
    "    finalStr = \"\"\n",
    "    for i in range(listLength):\n",
    "        if i!=listLength-1:\n",
    "            finalStr = finalStr +\" \"+someList[i]+\",\"\n",
    "        else:\n",
    "            finalStr = finalStr +\"and \"+someList[i]\n",
    "    print(finalStr)\n",
    "some = ['apples','bananas','tofu','soya']\n",
    "listToString(some)"
   ]
  },
  {
   "cell_type": "code",
   "execution_count": 17,
   "metadata": {},
   "outputs": [
    {
     "name": "stdout",
     "output_type": "stream",
     "text": [
      "Dictionary After: {'GUVI': 8, 'is': 4, 'for': 'geeks'}\n"
     ]
    }
   ],
   "source": [
    "dt_before = {'GUVI' : 8, 'is' : 4, 'the' : 13, 'for' : 'geeks'} \n",
    "limit = 9\n",
    "dt_after = {k : v for k, v in dt_before.items() if (type(v) != int or v < limit)}\n",
    "print(\"Dictionary After: \" + str(dt_after))"
   ]
  }
 ],
 "metadata": {
  "kernelspec": {
   "display_name": "Python 3",
   "language": "python",
   "name": "python3"
  },
  "language_info": {
   "codemirror_mode": {
    "name": "ipython",
    "version": 3
   },
   "file_extension": ".py",
   "mimetype": "text/x-python",
   "name": "python",
   "nbconvert_exporter": "python",
   "pygments_lexer": "ipython3",
   "version": "3.6.8"
  }
 },
 "nbformat": 4,
 "nbformat_minor": 2
}
